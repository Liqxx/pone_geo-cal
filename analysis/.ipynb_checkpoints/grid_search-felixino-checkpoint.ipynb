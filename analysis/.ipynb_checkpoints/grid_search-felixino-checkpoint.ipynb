{
 "cells": [
  {
   "cell_type": "code",
   "execution_count": 1,
   "metadata": {},
   "outputs": [],
   "source": [
    "#icecube:\n",
    "from icecube import dataio, dataclasses, simclasses\n",
    "from icecube.icetray import OMKey\n",
    "from icecube.dataclasses import *\n",
    "\n",
    "# The usual:\n",
    "import os\n",
    "import numpy as np\n",
    "import copy\n",
    "\n",
    "#Plotting:\n",
    "from matplotlib import rcParams\n",
    "from mpl_toolkits.mplot3d import Axes3D\n",
    "from matplotlib.pyplot import cm\n",
    "import matplotlib.pyplot as plt"
   ]
  },
  {
   "cell_type": "code",
   "execution_count": 2,
   "metadata": {},
   "outputs": [],
   "source": [
    "#Using new GCD:\n",
    "geometry = dataio.I3File(\"/home/fschmuckermaier/gcd/physics_volume_GCD.i3.bz2\")\n",
    "gframe = geometry.pop_frame()  \n",
    "geo = gframe[\"I3Geometry\"] #access geo file via key\n",
    "\n",
    "#ceate a general event dictionary with 2D array (charge,time) as values\n",
    "event = {} \n",
    "all_dom_keys = []\n",
    "for i in geo.omgeo.keys():\n",
    "    if i.pmt==0 and i.string <87:\n",
    "        all_dom_keys.append(i)\n",
    "        \n",
    "for i in all_dom_keys:\n",
    "    event[i] = []\n",
    "    \n",
    "# Make list of pocam strings:\n",
    "pocams = [\"87_84\",\"88_72\",\"89_38\",\"90_100\",\"91_50\", \"92_28\",\"93_64\"]\n",
    "pocam_keys=[OMKey(87,84,0),OMKey(88,72,0),OMKey(89,38,0),OMKey(90,100,0),OMKey(91,50,0),OMKey(92,28,0),OMKey(93,64,0)]"
   ]
  },
  {
   "cell_type": "markdown",
   "metadata": {},
   "source": [
    "### Define parameter space"
   ]
  },
  {
   "cell_type": "code",
   "execution_count": 3,
   "metadata": {},
   "outputs": [],
   "source": [
    "### Data params: ###\n",
    "#p0-p1 run:\n",
    "'''SCA  = [1.00] \n",
    "DOME = [1.00] \n",
    "P0 = np.linspace(-0.7,0.7,11)\n",
    "P1 = np.linspace(-0.1,0.2,11)\n",
    "ABS = [1.00]\n",
    "sca_t= 1.00 \n",
    "dome_t=1.00 \n",
    "p0_t = 0.1\n",
    "p1_t = -0.05\n",
    "abs_t = 1.00\n",
    "N_truth=100\n",
    "direc=\"p0_p1_binned_100runs\" #data average over 100 runs\n",
    "'''\n",
    "\n",
    "\n",
    "#sca-dome run:\n",
    "SCA  = np.linspace(0.9,1.1,11)\n",
    "DOME = np.linspace(0.9,1.1,11)\n",
    "P0 = [1.00]\n",
    "P1 = [1.00]\n",
    "ABS = [1.00]\n",
    "sca_t= 1.025\n",
    "dome_t=0.96\n",
    "p0_t = 1.00 \n",
    "p1_t = 1.00 \n",
    "abs_t = 1.00\n",
    "N_truth=1000\n",
    "direc=\"sca_dome_binned_100runs\"\n",
    "\n",
    "N=100 #runs created with\n",
    "n=100 #runs binned with\n",
    "\n",
    "\n"
   ]
  },
  {
   "cell_type": "markdown",
   "metadata": {},
   "source": [
    "### Define bin size"
   ]
  },
  {
   "cell_type": "code",
   "execution_count": 4,
   "metadata": {},
   "outputs": [
    {
     "name": "stdout",
     "output_type": "stream",
     "text": [
      "Using binsize of 40 ns\n",
      "and looking at the 20 first datapoints\n"
     ]
    }
   ],
   "source": [
    "binsize=40 #ns\n",
    "n_data =20 # number of datapoints taken after first hits\n",
    "print 'Using binsize of', binsize, 'ns'\n",
    "print 'and looking at the', n_data, 'first datapoints'\n",
    "n_bins_old=5000\n",
    "n_bins_new=5000/40\n",
    "time_bins = np.linspace(0,n_bins_old,(n_bins_new+1) )"
   ]
  },
  {
   "cell_type": "markdown",
   "metadata": {},
   "source": [
    "## Read in truth and data"
   ]
  },
  {
   "cell_type": "code",
   "execution_count": null,
   "metadata": {
    "scrolled": false
   },
   "outputs": [
    {
     "name": "stdout",
     "output_type": "stream",
     "text": [
      "Parameter combo: 0.9 0.9 1.0 1.0 1.0 done!\n",
      "Parameter combo: 0.9 0.92 1.0 1.0 1.0 done!\n",
      "Parameter combo: 0.9 0.9400000000000001 1.0 1.0 1.0 done!\n",
      "Parameter combo: 0.9 0.9600000000000001 1.0 1.0 1.0 done!\n",
      "Parameter combo: 0.9 0.9800000000000001 1.0 1.0 1.0 done!\n",
      "Parameter combo: 0.9 1.0 1.0 1.0 1.0 done!\n",
      "Parameter combo: 0.9 1.02 1.0 1.0 1.0 done!\n",
      "Parameter combo: 0.9 1.04 1.0 1.0 1.0 done!\n",
      "Parameter combo: 0.9 1.06 1.0 1.0 1.0 done!\n",
      "Parameter combo: 0.9 1.08 1.0 1.0 1.0 done!\n",
      "Parameter combo: 0.9 1.1 1.0 1.0 1.0 done!\n",
      "Parameter combo: 0.92 0.9 1.0 1.0 1.0 done!\n",
      "Parameter combo: 0.92 0.92 1.0 1.0 1.0 done!\n"
     ]
    }
   ],
   "source": [
    "data_binned = {}\n",
    "data_binned[\"truth\"] = {}\n",
    "data_binned[\"data\"] = {}\n",
    "\n",
    "### Read in truth ###\n",
    "for pocam in pocams:\n",
    "    data_tmp_1ns_binned = np.load(os.path.expanduser('/data/user/fschmuckermaier/deepcore_data/%s/TRUTH_ABS-%.3f_SCA-%.3f_DOME-%.3f_P0-%.3f_P1-%.3f_N-%i_pocam_%s.npy'%(direc,abs_t, sca_t, dome_t, p0_t, p1_t, N_truth, pocam)))\n",
    "    data_binned[\"truth\"][pocam]=copy.deepcopy(event)\n",
    "    \n",
    "    for key in all_dom_keys:  #go through all DOMs\n",
    "        #rebinning by summing right number of 1ns bins to new binsize:\n",
    "        data_tmp_binned = [sum(data_tmp_1ns_binned.item().get(key)[i*binsize : (i+1)*binsize]) for i in range(n_bins_new)]\n",
    "        data_binned[\"truth\"][pocam][key]  = np.array(data_tmp_binned)/float(N_truth/n) #average to data size\n",
    "\n",
    "    \n",
    "### Read in data ###\n",
    "for sca in SCA:\n",
    "    for dome in DOME:\n",
    "        for p0 in P0:\n",
    "            for p1 in P1:\n",
    "                for _abs in ABS:\n",
    "                    tag=\"{sca}_{dome}_{p0}_{p1}_{_abs}\".format(sca=sca,dome=dome,p0=p0,p1=p1,_abs=_abs)\n",
    "                    data_binned[\"data\"][tag] = {}\n",
    "                         \n",
    "                    for pocam in pocams: \n",
    "                        data_tmp_1ns_binned = np.load(os.path.expanduser('/data/user/fschmuckermaier/deepcore_data/%s/ABS-%.3f_SCA-%.3f_DOME-%.3f_P0-%.3f_P1-%.3f_N-%i_pocam_%s.npy'%(direc,_abs, sca, dome, p0, p1, N, pocam)))\n",
    "                        data_binned[\"data\"][tag][pocam] = copy.deepcopy(event)\n",
    "\n",
    "                        for key in all_dom_keys:  #go through all DOMs\n",
    "                            #rebinning by summing right number of 1ns bins to new binsize:\n",
    "                            data_tmp_binned = [sum(data_tmp_1ns_binned.item().get(key)[i*binsize : (i+1)*binsize]) for i in range(n_bins_new)]\n",
    "                            data_binned[\"data\"][tag][pocam][key]  = data_tmp_binned\n",
    "                                \n",
    "                    print \"Parameter combo:\",sca, dome, p0, p1, _abs, \"done!\"\n",
    "print \"FINNISHED!\""
   ]
  },
  {
   "cell_type": "markdown",
   "metadata": {},
   "source": [
    "### Example comparison"
   ]
  },
  {
   "cell_type": "code",
   "execution_count": 46,
   "metadata": {},
   "outputs": [
    {
     "data": {
      "image/png": "[encoded data removed]",
      "text/plain": [
       "<matplotlib.figure.Figure at 0x7fa2756f1fd0>"
      ]
     },
     "metadata": {
      "needs_background": "light"
     },
     "output_type": "display_data"
    }
   ],
   "source": [
    "y_hist=data_binned[\"truth\"][\"87_84\"][OMKey(81,50,0)]\n",
    "plt.step(time_bins[:-1],y_hist,where='mid',alpha=0.9)\n",
    "plt.fill_between(time_bins[:-1],y_hist, step=\"mid\", alpha=0.3,label='truth')\n",
    "\n",
    "\n",
    "#compare with:\n",
    "#sca_dome_run:\n",
    "params=\"{sca}_{dome}_{p0}_{p1}_{_abs}\".format(sca=1.02,dome=0.96,p0=1.00 ,p1=1.00,_abs=1.00)\n",
    "\n",
    "#p0_p1_run:\n",
    "#params=\"{sca}_{dome}_{p0}_{p1}_{_abs}\".format(sca=1.00,dome=1.00,p0=0.0 ,p1=-0.1,_abs=1.00)\n",
    " \n",
    "y_hist=data_binned[\"data\"][params][\"87_84\"][OMKey(81,50,0)]\n",
    "plt.step(time_bins[:-1],y_hist,where='mid',alpha=0.9)\n",
    "plt.fill_between(time_bins[:-1],y_hist, step=\"mid\", alpha=0.3,label=\"example data\")\n",
    "\n",
    "\n",
    "y_err=[np.sqrt(i/float(N_truth/N)) for i in y_hist]\n",
    "#plt.errorbar(x_time_2, y_hist_2, y_err,fmt='.k',elinewidth=1, capsize=1,markersize='3') \n",
    "\n",
    "plt.xlim(0,2000)\n",
    "plt.ylim(0,None)\n",
    "plt.xlabel('Time [ns]', fontsize=14)\n",
    "plt.ylabel('Number of hits', fontsize=14)\n",
    "plt.legend(loc='upper right')\n",
    "\n",
    "plt.tight_layout()\n",
    "#plt.savefig('example_comp.pdf')"
   ]
  },
  {
   "cell_type": "markdown",
   "metadata": {},
   "source": [
    "# Computing the LLH-landsape\n",
    "For the likelihhod we combine the likelihoods of individual DOMs of all POCAM flashes. To keep it managable and keep the individual count statistic high, we only look at DOMs that are within a 100m radius around the corresponing POCAM. \n",
    "<br>\n",
    "The likelihood is then:\n",
    "$$\n",
    "\\mathcal{L} = \\prod_{\\text{POCAMs}} \\, \\prod_{\\text{DOMs} < 100m} \\, \\prod_{\\text{histogram bins}} \\, p(d_i, t_i)\n",
    "$$\n",
    "and the log llh:\n",
    "$$\n",
    "-2 ln \\mathcal{L} = -2 \\sum_{\\text{POCAMs}} \\, \\sum_{\\text{DOMs} < 100m} \\, \\sum_{\\text{histogram bins}} \\, ln( p(d_i, t_i))\n",
    "$$\n",
    "If $t_i$ > 20:\n",
    "$$\n",
    "p(d_i,t_i) = Normal(d_i,t_i) = \\frac{1}{\\sqrt{2 \\pi \\sigma^2}} \\, e^{-\\frac{(d_i-t_i)^2}{2 \\sigma^2}} \\qquad \\text{where} \\quad \\sigma^2 = \\sqrt{t_i}^2 = t_i\n",
    "$$\n",
    "and if $t_i$ < 20:\n",
    "$$\n",
    "        p(d_i,t_i) = Poisson(d_i,t_i) = \\frac{t_i^{d_i}}{d_i !} \\, e^{-t_i} \n",
    "$$"
   ]
  },
  {
   "cell_type": "code",
   "execution_count": 50,
   "metadata": {
    "scrolled": false
   },
   "outputs": [],
   "source": [
    "#Define empty llh-landscape:\n",
    "llh_array=np.zeros((11,11))\n",
    "\n",
    "for sca_i,sca in enumerate(SCA):\n",
    "    \n",
    "    for dome_i,dome in enumerate(DOME):\n",
    "        \n",
    "        for p_i,p0 in enumerate(P0):\n",
    "            \n",
    "            for p_j,p1 in enumerate(P1):\n",
    "                \n",
    "                for _abs in ABS:\n",
    "                    \n",
    "                    counter=0\n",
    "                    \n",
    "                    #list of llh for pocams\n",
    "                    llh_pocam=[]\n",
    "\n",
    "                    for k,pocam in enumerate(pocams):\n",
    "\n",
    "                        #list of llh for doms\n",
    "                        llh_doms=[]\n",
    "\n",
    "                        #Get POCAM coordinates:\n",
    "                        pocam_key=pocam_keys[k]\n",
    "                        p_x=geo.omgeo[pocam_key].position.x\n",
    "                        p_y=geo.omgeo[pocam_key].position.y\n",
    "                        p_z=geo.omgeo[pocam_key].position.z\n",
    "\n",
    "                        for key in all_dom_keys:\n",
    "                            if key.pmt==0: #ignore\n",
    "\n",
    "                                #list of llh for datapoints\n",
    "                                llh_datapoints=[]\n",
    "\n",
    "                                #Get DOM coordinates:\n",
    "                                d_x=geo.omgeo[key].position.x\n",
    "                                d_y=geo.omgeo[key].position.y\n",
    "                                d_z=geo.omgeo[key].position.z\n",
    "\n",
    "                                distance= np.sqrt((d_x-p_x)**2 + (d_y-p_y)**2 + (d_z-p_z)**2)\n",
    "                                \n",
    "                                truth    = np.array(data_binned[\"truth\"][pocam][key])\n",
    "                                data_sim = np.array(data_binned[\"data\"][\"{sca}_{dome}_{p0}_{p1}_{_abs}\".format(sca=sca,dome=dome,p0=p0,p1=p1,_abs=_abs)][pocam][key])\n",
    "\n",
    "\n",
    "                                if distance < 100 and  sum(truth)>0 and sum(data_sim)>0: #only look at DOMS with distance <100m\n",
    "\n",
    "                                    index=next((i for i, x in enumerate(truth) if x), None) #gets index of first non-zero value of truth not data (better average!!!)\n",
    "                                    truth    = truth[index:index+n_data]\n",
    "                                    data_sim = data_sim[index:index+n_data]\n",
    "\n",
    "\n",
    "                                    for i in range(n_data):\n",
    "                                        t=float(truth[i])\n",
    "                                        d=float(data_sim[i])\n",
    "\n",
    "                                        if t>0:\n",
    "                                            #Use poisson if d <20. Values greater 20 cant be computed (long in np.log not possible!)\n",
    "                                            if d<20.:\n",
    "                                                llh_datapoints.append( -2*( d*np.log(t) -np.log(np.math.factorial(d)) -t ) )\n",
    "                                            #Use gaussian:\n",
    "                                            else:\n",
    "                                                llh_datapoints.append( (((d-t)**2)/t)+ 2*np.log((np.sqrt(2*np.pi*t)))  )\n",
    "\n",
    "                                    #Append llh sum from DOM:\n",
    "                                    counter += 1\n",
    "                                    llh_doms.append(sum(llh_datapoints))\n",
    "\n",
    "                        #Append llh sum from POCAM:\n",
    "                        llh_pocam.append(sum(llh_doms))\n",
    "\n",
    "                    #Putting the final llh into the landscape array:\n",
    "                    \n",
    "                    #llh_array[p_i,p_j]=sum(llh_pocam)/100.\n",
    "                    llh_array[sca_i,dome_i]=sum(llh_pocam)/100.\n"
   ]
  },
  {
   "cell_type": "code",
   "execution_count": 51,
   "metadata": {},
   "outputs": [
    {
     "data": {
      "image/png": "[encoded data removed]",
      "text/plain": [
       "<matplotlib.figure.Figure at 0x7fa277718810>"
      ]
     },
     "metadata": {
      "needs_background": "light"
     },
     "output_type": "display_data"
    }
   ],
   "source": [
    "fig = plt.figure(figsize=(8,8))\n",
    "ax = fig.add_subplot(111)\n",
    "ax.set_title(\"Grid search with {_bin} ns binning\".format(_bin=binsize),fontsize=18)\n",
    "plt.imshow(llh_array,origin=(0.0,0.3),cmap=\"viridis\")\n",
    "\n",
    "cbar=plt.colorbar(orientation='vertical',fraction=0.045,ax=ax)\n",
    "#cbar.set_label(r'$-2 \\, ln \\, \\mathcal{L}$',fontsize=18)\n",
    "cbar.set_label(r'$-2 \\, \\frac{ln \\, \\mathcal{L}}{N}$',fontsize=18)\n",
    "\n",
    "\n",
    "### Sca Dome run ###\n",
    "\n",
    "ax.set_xticks(np.arange(0, 11, 1))\n",
    "ax.set_yticks(np.arange(0, 11, 1))\n",
    "ax.set_xticklabels([round(i,2) for i in DOME])\n",
    "ax.set_yticklabels([round(i,2) for i in SCA])\n",
    "plt.xlabel('Dome', fontsize=18)\n",
    "plt.ylabel('Sca', fontsize=18)\n",
    "\n",
    "#Really ugly, but works:\n",
    "#plot x as n_x* (tx-x_min)/(x_max-x_min)\n",
    "#MC-truth for sca-dome run:\n",
    "ty= 1.025\n",
    "tx=0.96\n",
    "plt.scatter((len(SCA)-1)* (tx-0.9)/(0.2), (len(DOME)-1)* (ty-0.9)/(0.2), color='r',s=150,label='MC truth',marker='*')\n",
    "\n",
    "\n",
    "\n",
    "### p0 p1 run ###\n",
    "\n",
    "'''ax.set_xticks(np.arange(0, 11, 1))\n",
    "ax.set_yticks(np.arange(0, 11, 1))\n",
    "ax.set_xticklabels([round(i,2) for i in P1])\n",
    "ax.set_yticklabels([round(i,2) for i in P0])\n",
    "plt.xlabel('p1', fontsize=18)\n",
    "plt.ylabel('p0', fontsize=18)\n",
    "#MC-truth for p0-p1 run:\n",
    "tx = -0.05\n",
    "ty = 0.1\n",
    "plt.scatter((len(P1)-1)* (tx+0.1)/(0.3), (len(P0)-1)* (ty+0.7)/(1.4), color='r',s=150,label='MC truth',marker='*')\n",
    "'''\n",
    "\n",
    "### llh intervals ###\n",
    "#index_s1,index_s2=np.where(llh_array<np.amin(llh_array)+2.7)\n",
    "#plt.scatter(index_s2,index_s1,label=\"$< llh_{min} + 2.7$\",c='yellow',s=100,alpha=0.8)\n",
    "\n",
    "ax.set_aspect('equal')\n",
    "plt.legend(fontsize=13)\n",
    "plt.tight_layout()\n",
    "#plt.savefig('sca_dome_grid_search_{_bin}_ns_new.pdf'.format(_bin=binsize))"
   ]
  }
 ],
 "metadata": {
  "kernelspec": {
   "display_name": "Python 2",
   "language": "python",
   "name": "python2"
  },
  "language_info": {
   "codemirror_mode": {
    "name": "ipython",
    "version": 2
   },
   "file_extension": ".py",
   "mimetype": "text/x-python",
   "name": "python",
   "nbconvert_exporter": "python",
   "pygments_lexer": "ipython2",
   "version": "2.7.15"
  }
 },
 "nbformat": 4,
 "nbformat_minor": 2
}
